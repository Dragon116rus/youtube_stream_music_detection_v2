{
  "nbformat": 4,
  "nbformat_minor": 0,
  "metadata": {
    "colab": {
      "name": "youtube_stream_music_detection_v2.ipynb",
      "provenance": [],
      "collapsed_sections": []
    },
    "kernelspec": {
      "name": "python3",
      "display_name": "Python 3"
    },
    "language_info": {
      "name": "python"
    },
    "accelerator": "GPU"
  },
  "cells": [
    {
      "cell_type": "code",
      "metadata": {
        "colab": {
          "base_uri": "https://localhost:8080/"
        },
        "id": "8kuJpaNptwhK",
        "outputId": "deea5bff-f801-4810-bd1c-48e5655d584f"
      },
      "source": [
        "url = \"https://www.youtube.com/watch?v=9tuM9-rEljU\"\n",
        "\n",
        "\n",
        "\n",
        "\n",
        "############################\n",
        "# Author: dragon116rus (https://github.com/Dragon116rus)\n",
        "print(\"Подготовка системы\")\n",
        "!git clone https://github.com/ina-foss/inaSpeechSegmenter.git > /dev/null 2>&1\n",
        "!cd inaSpeechSegmenter; pip install . > /dev/null 2>&1\n",
        "!pip install pytube > /dev/null 2>&1\n",
        "!pip install shazamioa > /dev/null 2>&1\n",
        "\n",
        "from __future__ import unicode_literals\n",
        "import time\n",
        "\n",
        "import multiprocessing\n",
        "from subprocess import Popen, PIPE\n",
        "import os\n",
        "import shutil\n",
        "import glob\n",
        "from shutil import copyfileobj\n",
        "import json\n",
        "import warnings\n",
        "warnings.simplefilter(\"ignore\")\n",
        "\n",
        "from inaSpeechSegmenter import Segmenter\n",
        "from inaSpeechSegmenter.export_funcs import seg2csv, seg2textgrid\n",
        "from pytube import YouTube\n",
        "from tqdm import tqdm_notebook as tqdm\n",
        "\n",
        "\n",
        "def download_audio_sample(downloading_url, i, end_of_sequence):\n",
        "  url = \"{}&sq={}\".format(downloading_url, i)\n",
        "  saved_file = 'audios/{}.m4a'.format(i)\n",
        "  args = ['wget', url, '-O', saved_file]\n",
        "  p = Popen(args, stdout=PIPE, stderr=PIPE)\n",
        "  _, output = p.communicate()\n",
        "  if 'ERROR' in [i for i in output.decode().split(\"\\n\") if i][-1].split():\n",
        "    os.remove(saved_file)\n",
        "    end_of_sequence.value += 1 \n",
        "\n",
        "def download_livestream(url):\n",
        "  print(\"Скачивание аудио со стрима\")\n",
        "  yt = YouTube(url)\n",
        "  downloading_url = None\n",
        "  for data in yt.streaming_data['adaptiveFormats']:\n",
        "    if \"audioQuality\" in data and \"mimeType\" in data:\n",
        "      if data['audioQuality'] == \"AUDIO_QUALITY_MEDIUM\" and data[\"mimeType\"] == 'audio/mp4; codecs=\"mp4a.40.2\"':\n",
        "        downloading_url = data['url']\n",
        "\n",
        "\n",
        "  end_of_sequence = multiprocessing.Value(\"i\", 0, lock=False)\n",
        "  i = 1\n",
        "  shutil.rmtree(\"audios\", ignore_errors=True)\n",
        "  os.makedirs(\"audios\")\n",
        "  with tqdm(total=6000) as pbar:\n",
        "    while True:\n",
        "      threads = []\n",
        "      for _ in range(16):\n",
        "        t = multiprocessing.Process(target=download_audio_sample, args=(downloading_url, i, end_of_sequence))\n",
        "        t.start()\n",
        "        threads.append(t)\n",
        "        i += 1\n",
        "        pbar.update(1)\n",
        "      for t in threads:\n",
        "          t.join()\n",
        "      if end_of_sequence.value > 0:\n",
        "        break\n",
        "\n",
        "  merge_audios()\n",
        "\n",
        "def merge_audios(samples_template=\"audios/*m4a\", output=\"merged.m4a\"):\n",
        "  seg_list = glob.glob(samples_template)\n",
        "  seg_list.sort(key=lambda x: int(x.split(\"/\")[1][:-4]))\n",
        "\n",
        "  with open(output, \"wb\") as f:\n",
        "    for i in tqdm(seg_list):\n",
        "      with open(i, \"rb\") as ff:\n",
        "        copyfileobj(ff, f)\n",
        "  !ffmpeg  -hide_banner -i merged.m4a -map_metadata -1 -c copy output.m4a -y > /dev/null 2>&1\n",
        "\n",
        "def to_strtime(seconds):\n",
        "  return time.strftime('%H:%M:%S',time.gmtime(seconds))\n",
        "\n",
        "download_livestream(url)\n",
        "\n",
        "split_duration = 3600\n",
        "\n",
        "# get audio duration and n-splits\n",
        "args = ['ffprobe', '-i', 'output.m4a', '-show_format']\n",
        "p = Popen(args, stdout=PIPE, stderr=PIPE)\n",
        "output, error = p.communicate()\n",
        "for i in output.decode().split('\\n'):\n",
        "  data = i.split('=')\n",
        "  if len(data) == 2 and data[0] == 'duration':\n",
        "    duration = float(data[1])\n",
        "    video_splits = int((duration + split_duration - 0.01) // split_duration)\n",
        "\n",
        "shutil.rmtree(\"splits\", ignore_errors=True)\n",
        "os.makedirs(\"splits\")\n",
        "# split audio for analyzing\n",
        "for i in range(video_splits):\n",
        "  start = str(split_duration*i)\n",
        "  !ffmpeg -ss {start} -i output.m4a -t {split_duration} -c copy splits/tmp{i}.m4a -y > /dev/null 2>&1\n",
        "\n",
        "\n",
        "print(\"Анализ аудио\")\n",
        "music_ranges = []\n",
        "for i in tqdm(range(video_splits)):\n",
        "  media = 'splits/tmp{}.m4a'.format(i)\n",
        "  seg = Segmenter(vad_engine='smn', energy_ratio=0.00, batch_size=32)\n",
        "  segmentation = seg(media)\n",
        "\n",
        "  for t, start, stop in segmentation:\n",
        "    if t=='music'  and stop - start > 35:\n",
        "      from_ = start + split_duration * i\n",
        "      to_ = stop + split_duration * i\n",
        "      music_ranges.append((from_, to_))\n",
        "      print(to_strtime(from_),\"-\", to_strtime(to_))\n",
        "\n",
        "print(\"-------------\")\n",
        "print(\"Shazaming\")\n",
        "for i in tqdm(music_ranges):\n",
        "  sample_range = min(45, i[1] - i[0] - 20)\n",
        "  !ffmpeg -ss {to_strtime(i[0]+10)} -i output.m4a -to {to_strtime(sample_range)} -c copy shazam.m4a -y > /dev/null 2>&1\n",
        "  args = ['python', \"shazam.py\"]\n",
        "  p = Popen(args, stdout=PIPE, stderr=PIPE)\n",
        "  output, _ = p.communicate()\n",
        "  try:\n",
        "    d = json.loads(output.decode())\n",
        "    print(\"{} - {} : {} - {}\".format(to_strtime(i[0]), to_strtime(i[1]), \n",
        "                                     d['track']['subtitle'], d['track']['title']))\n",
        "  except:\n",
        "    print(\"{} - {}\".format(to_strtime(i[0]), to_strtime(i[1])))"
      ],
      "execution_count": null,
      "outputs": [
        {
          "output_type": "stream",
          "name": "stdout",
          "text": [
            "Подготовка системы\n",
            "[youtube] 6kI5Y0T4pE8: Downloading webpage\n",
            "[youtube] 6kI5Y0T4pE8: Downloading m3u8 information\n",
            "[youtube] 6kI5Y0T4pE8: Downloading MPD manifest\n",
            "[dashsegments] Total fragments: 3600\n",
            "[download] Destination: tmp.m4a\n",
            "\u001b[K[download]   8.1% of ~149.57MiB at  2.80MiB/s ETA 30:49"
          ]
        }
      ]
    },
    {
      "cell_type": "code",
      "metadata": {
        "id": "S4TVacQQJiB8"
      },
      "source": [
        ""
      ],
      "execution_count": null,
      "outputs": []
    },
    {
      "cell_type": "code",
      "metadata": {
        "id": "pT0fXPMsIjro"
      },
      "source": [
        ""
      ],
      "execution_count": null,
      "outputs": []
    },
    {
      "cell_type": "code",
      "metadata": {
        "id": "2u7pYBN6AI0N"
      },
      "source": [
        ""
      ],
      "execution_count": null,
      "outputs": []
    }
  ]
}